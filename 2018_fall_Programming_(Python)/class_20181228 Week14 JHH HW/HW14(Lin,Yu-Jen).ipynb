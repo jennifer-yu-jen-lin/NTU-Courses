{
 "cells": [
  {
   "cell_type": "markdown",
   "metadata": {},
   "source": [
    "# Homework 14 - ML project\n",
    "## Random Forest (RF) & Support Vector Machines (SVM)"
   ]
  },
  {
   "cell_type": "markdown",
   "metadata": {},
   "source": [
    "#### Lin, Yu-Jen \n",
    "#### NTU student ID: b04b01036\n",
    "#### email: b04b01036@ntu.edu.tw\n"
   ]
  },
  {
   "cell_type": "markdown",
   "metadata": {},
   "source": [
    "# 1. Load the data"
   ]
  },
  {
   "cell_type": "code",
   "execution_count": 1,
   "metadata": {},
   "outputs": [],
   "source": [
    "import numpy as np\n",
    "import pandas as pd\n",
    "import matplotlib.pyplot as plt\n",
    "%matplotlib inline\n",
    "import seaborn as sns; sns.set()\n",
    "from scipy import stats"
   ]
  },
  {
   "cell_type": "code",
   "execution_count": 2,
   "metadata": {},
   "outputs": [],
   "source": [
    "import sklearn\n",
    "from sklearn import datasets\n",
    "breast_cancer = datasets.load_breast_cancer()"
   ]
  },
  {
   "cell_type": "code",
   "execution_count": 3,
   "metadata": {},
   "outputs": [
    {
     "name": "stdout",
     "output_type": "stream",
     "text": [
      "{'data': array([[1.799e+01, 1.038e+01, 1.228e+02, ..., 2.654e-01, 4.601e-01,\n",
      "        1.189e-01],\n",
      "       [2.057e+01, 1.777e+01, 1.329e+02, ..., 1.860e-01, 2.750e-01,\n",
      "        8.902e-02],\n",
      "       [1.969e+01, 2.125e+01, 1.300e+02, ..., 2.430e-01, 3.613e-01,\n",
      "        8.758e-02],\n",
      "       ...,\n",
      "       [1.660e+01, 2.808e+01, 1.083e+02, ..., 1.418e-01, 2.218e-01,\n",
      "        7.820e-02],\n",
      "       [2.060e+01, 2.933e+01, 1.401e+02, ..., 2.650e-01, 4.087e-01,\n",
      "        1.240e-01],\n",
      "       [7.760e+00, 2.454e+01, 4.792e+01, ..., 0.000e+00, 2.871e-01,\n",
      "        7.039e-02]]), 'target': array([0, 0, 0, 0, 0, 0, 0, 0, 0, 0, 0, 0, 0, 0, 0, 0, 0, 0, 0, 1, 1, 1,\n",
      "       0, 0, 0, 0, 0, 0, 0, 0, 0, 0, 0, 0, 0, 0, 0, 1, 0, 0, 0, 0, 0, 0,\n",
      "       0, 0, 1, 0, 1, 1, 1, 1, 1, 0, 0, 1, 0, 0, 1, 1, 1, 1, 0, 1, 0, 0,\n",
      "       1, 1, 1, 1, 0, 1, 0, 0, 1, 0, 1, 0, 0, 1, 1, 1, 0, 0, 1, 0, 0, 0,\n",
      "       1, 1, 1, 0, 1, 1, 0, 0, 1, 1, 1, 0, 0, 1, 1, 1, 1, 0, 1, 1, 0, 1,\n",
      "       1, 1, 1, 1, 1, 1, 1, 0, 0, 0, 1, 0, 0, 1, 1, 1, 0, 0, 1, 0, 1, 0,\n",
      "       0, 1, 0, 0, 1, 1, 0, 1, 1, 0, 1, 1, 1, 1, 0, 1, 1, 1, 1, 1, 1, 1,\n",
      "       1, 1, 0, 1, 1, 1, 1, 0, 0, 1, 0, 1, 1, 0, 0, 1, 1, 0, 0, 1, 1, 1,\n",
      "       1, 0, 1, 1, 0, 0, 0, 1, 0, 1, 0, 1, 1, 1, 0, 1, 1, 0, 0, 1, 0, 0,\n",
      "       0, 0, 1, 0, 0, 0, 1, 0, 1, 0, 1, 1, 0, 1, 0, 0, 0, 0, 1, 1, 0, 0,\n",
      "       1, 1, 1, 0, 1, 1, 1, 1, 1, 0, 0, 1, 1, 0, 1, 1, 0, 0, 1, 0, 1, 1,\n",
      "       1, 1, 0, 1, 1, 1, 1, 1, 0, 1, 0, 0, 0, 0, 0, 0, 0, 0, 0, 0, 0, 0,\n",
      "       0, 0, 1, 1, 1, 1, 1, 1, 0, 1, 0, 1, 1, 0, 1, 1, 0, 1, 0, 0, 1, 1,\n",
      "       1, 1, 1, 1, 1, 1, 1, 1, 1, 1, 1, 0, 1, 1, 0, 1, 0, 1, 1, 1, 1, 1,\n",
      "       1, 1, 1, 1, 1, 1, 1, 1, 1, 0, 1, 1, 1, 0, 1, 0, 1, 1, 1, 1, 0, 0,\n",
      "       0, 1, 1, 1, 1, 0, 1, 0, 1, 0, 1, 1, 1, 0, 1, 1, 1, 1, 1, 1, 1, 0,\n",
      "       0, 0, 1, 1, 1, 1, 1, 1, 1, 1, 1, 1, 1, 0, 0, 1, 0, 0, 0, 1, 0, 0,\n",
      "       1, 1, 1, 1, 1, 0, 1, 1, 1, 1, 1, 0, 1, 1, 1, 0, 1, 1, 0, 0, 1, 1,\n",
      "       1, 1, 1, 1, 0, 1, 1, 1, 1, 1, 1, 1, 0, 1, 1, 1, 1, 1, 0, 1, 1, 0,\n",
      "       1, 1, 1, 1, 1, 1, 1, 1, 1, 1, 1, 1, 0, 1, 0, 0, 1, 0, 1, 1, 1, 1,\n",
      "       1, 0, 1, 1, 0, 1, 0, 1, 1, 0, 1, 0, 1, 1, 1, 1, 1, 1, 1, 1, 0, 0,\n",
      "       1, 1, 1, 1, 1, 1, 0, 1, 1, 1, 1, 1, 1, 1, 1, 1, 1, 0, 1, 1, 1, 1,\n",
      "       1, 1, 1, 0, 1, 0, 1, 1, 0, 1, 1, 1, 1, 1, 0, 0, 1, 0, 1, 0, 1, 1,\n",
      "       1, 1, 1, 0, 1, 1, 0, 1, 0, 1, 0, 0, 1, 1, 1, 0, 1, 1, 1, 1, 1, 1,\n",
      "       1, 1, 1, 1, 1, 0, 1, 0, 0, 1, 1, 1, 1, 1, 1, 1, 1, 1, 1, 1, 1, 1,\n",
      "       1, 1, 1, 1, 1, 1, 1, 1, 1, 1, 1, 1, 0, 0, 0, 0, 0, 0, 1]), 'target_names': array(['malignant', 'benign'], dtype='<U9'), 'DESCR': 'Breast Cancer Wisconsin (Diagnostic) Database\\n=============================================\\n\\nNotes\\n-----\\nData Set Characteristics:\\n    :Number of Instances: 569\\n\\n    :Number of Attributes: 30 numeric, predictive attributes and the class\\n\\n    :Attribute Information:\\n        - radius (mean of distances from center to points on the perimeter)\\n        - texture (standard deviation of gray-scale values)\\n        - perimeter\\n        - area\\n        - smoothness (local variation in radius lengths)\\n        - compactness (perimeter^2 / area - 1.0)\\n        - concavity (severity of concave portions of the contour)\\n        - concave points (number of concave portions of the contour)\\n        - symmetry \\n        - fractal dimension (\"coastline approximation\" - 1)\\n\\n        The mean, standard error, and \"worst\" or largest (mean of the three\\n        largest values) of these features were computed for each image,\\n        resulting in 30 features.  For instance, field 3 is Mean Radius, field\\n        13 is Radius SE, field 23 is Worst Radius.\\n\\n        - class:\\n                - WDBC-Malignant\\n                - WDBC-Benign\\n\\n    :Summary Statistics:\\n\\n    ===================================== ====== ======\\n                                           Min    Max\\n    ===================================== ====== ======\\n    radius (mean):                        6.981  28.11\\n    texture (mean):                       9.71   39.28\\n    perimeter (mean):                     43.79  188.5\\n    area (mean):                          143.5  2501.0\\n    smoothness (mean):                    0.053  0.163\\n    compactness (mean):                   0.019  0.345\\n    concavity (mean):                     0.0    0.427\\n    concave points (mean):                0.0    0.201\\n    symmetry (mean):                      0.106  0.304\\n    fractal dimension (mean):             0.05   0.097\\n    radius (standard error):              0.112  2.873\\n    texture (standard error):             0.36   4.885\\n    perimeter (standard error):           0.757  21.98\\n    area (standard error):                6.802  542.2\\n    smoothness (standard error):          0.002  0.031\\n    compactness (standard error):         0.002  0.135\\n    concavity (standard error):           0.0    0.396\\n    concave points (standard error):      0.0    0.053\\n    symmetry (standard error):            0.008  0.079\\n    fractal dimension (standard error):   0.001  0.03\\n    radius (worst):                       7.93   36.04\\n    texture (worst):                      12.02  49.54\\n    perimeter (worst):                    50.41  251.2\\n    area (worst):                         185.2  4254.0\\n    smoothness (worst):                   0.071  0.223\\n    compactness (worst):                  0.027  1.058\\n    concavity (worst):                    0.0    1.252\\n    concave points (worst):               0.0    0.291\\n    symmetry (worst):                     0.156  0.664\\n    fractal dimension (worst):            0.055  0.208\\n    ===================================== ====== ======\\n\\n    :Missing Attribute Values: None\\n\\n    :Class Distribution: 212 - Malignant, 357 - Benign\\n\\n    :Creator:  Dr. William H. Wolberg, W. Nick Street, Olvi L. Mangasarian\\n\\n    :Donor: Nick Street\\n\\n    :Date: November, 1995\\n\\nThis is a copy of UCI ML Breast Cancer Wisconsin (Diagnostic) datasets.\\nhttps://goo.gl/U2Uwz2\\n\\nFeatures are computed from a digitized image of a fine needle\\naspirate (FNA) of a breast mass.  They describe\\ncharacteristics of the cell nuclei present in the image.\\n\\nSeparating plane described above was obtained using\\nMultisurface Method-Tree (MSM-T) [K. P. Bennett, \"Decision Tree\\nConstruction Via Linear Programming.\" Proceedings of the 4th\\nMidwest Artificial Intelligence and Cognitive Science Society,\\npp. 97-101, 1992], a classification method which uses linear\\nprogramming to construct a decision tree.  Relevant features\\nwere selected using an exhaustive search in the space of 1-4\\nfeatures and 1-3 separating planes.\\n\\nThe actual linear program used to obtain the separating plane\\nin the 3-dimensional space is that described in:\\n[K. P. Bennett and O. L. Mangasarian: \"Robust Linear\\nProgramming Discrimination of Two Linearly Inseparable Sets\",\\nOptimization Methods and Software 1, 1992, 23-34].\\n\\nThis database is also available through the UW CS ftp server:\\n\\nftp ftp.cs.wisc.edu\\ncd math-prog/cpo-dataset/machine-learn/WDBC/\\n\\nReferences\\n----------\\n   - W.N. Street, W.H. Wolberg and O.L. Mangasarian. Nuclear feature extraction \\n     for breast tumor diagnosis. IS&T/SPIE 1993 International Symposium on \\n     Electronic Imaging: Science and Technology, volume 1905, pages 861-870,\\n     San Jose, CA, 1993.\\n   - O.L. Mangasarian, W.N. Street and W.H. Wolberg. Breast cancer diagnosis and \\n     prognosis via linear programming. Operations Research, 43(4), pages 570-577, \\n     July-August 1995.\\n   - W.H. Wolberg, W.N. Street, and O.L. Mangasarian. Machine learning techniques\\n     to diagnose breast cancer from fine-needle aspirates. Cancer Letters 77 (1994) \\n     163-171.\\n', 'feature_names': array(['mean radius', 'mean texture', 'mean perimeter', 'mean area',\n",
      "       'mean smoothness', 'mean compactness', 'mean concavity',\n",
      "       'mean concave points', 'mean symmetry', 'mean fractal dimension',\n",
      "       'radius error', 'texture error', 'perimeter error', 'area error',\n",
      "       'smoothness error', 'compactness error', 'concavity error',\n",
      "       'concave points error', 'symmetry error',\n",
      "       'fractal dimension error', 'worst radius', 'worst texture',\n",
      "       'worst perimeter', 'worst area', 'worst smoothness',\n",
      "       'worst compactness', 'worst concavity', 'worst concave points',\n",
      "       'worst symmetry', 'worst fractal dimension'], dtype='<U23')}\n"
     ]
    }
   ],
   "source": [
    "print(breast_cancer)"
   ]
  },
  {
   "cell_type": "code",
   "execution_count": 5,
   "metadata": {},
   "outputs": [
    {
     "data": {
      "text/plain": [
       "dict_keys(['data', 'target', 'target_names', 'DESCR', 'feature_names'])"
      ]
     },
     "execution_count": 5,
     "metadata": {},
     "output_type": "execute_result"
    }
   ],
   "source": [
    "breast_cancer.keys()"
   ]
  },
  {
   "cell_type": "code",
   "execution_count": 6,
   "metadata": {},
   "outputs": [
    {
     "name": "stdout",
     "output_type": "stream",
     "text": [
      "(569, 30)\n"
     ]
    }
   ],
   "source": [
    "print(breast_cancer.data.shape)"
   ]
  },
  {
   "cell_type": "code",
   "execution_count": 7,
   "metadata": {},
   "outputs": [
    {
     "name": "stdout",
     "output_type": "stream",
     "text": [
      "(569, 30)\n",
      "[1.799e+01 1.038e+01 1.228e+02 1.001e+03 1.184e-01 2.776e-01 3.001e-01\n",
      " 1.471e-01 2.419e-01 7.871e-02 1.095e+00 9.053e-01 8.589e+00 1.534e+02\n",
      " 6.399e-03 4.904e-02 5.373e-02 1.587e-02 3.003e-02 6.193e-03 2.538e+01\n",
      " 1.733e+01 1.846e+02 2.019e+03 1.622e-01 6.656e-01 7.119e-01 2.654e-01\n",
      " 4.601e-01 1.189e-01]\n"
     ]
    }
   ],
   "source": [
    "n_samples, n_features = breast_cancer.data.shape\n",
    "print((n_samples, n_features))\n",
    "print(breast_cancer.data[0])"
   ]
  },
  {
   "cell_type": "code",
   "execution_count": 8,
   "metadata": {},
   "outputs": [
    {
     "name": "stdout",
     "output_type": "stream",
     "text": [
      "(569,)\n",
      "[0 0 0 0 0 0 0 0 0 0 0 0 0 0 0 0 0 0 0 1 1 1 0 0 0 0 0 0 0 0 0 0 0 0 0 0 0\n",
      " 1 0 0 0 0 0 0 0 0 1 0 1 1 1 1 1 0 0 1 0 0 1 1 1 1 0 1 0 0 1 1 1 1 0 1 0 0\n",
      " 1 0 1 0 0 1 1 1 0 0 1 0 0 0 1 1 1 0 1 1 0 0 1 1 1 0 0 1 1 1 1 0 1 1 0 1 1\n",
      " 1 1 1 1 1 1 0 0 0 1 0 0 1 1 1 0 0 1 0 1 0 0 1 0 0 1 1 0 1 1 0 1 1 1 1 0 1\n",
      " 1 1 1 1 1 1 1 1 0 1 1 1 1 0 0 1 0 1 1 0 0 1 1 0 0 1 1 1 1 0 1 1 0 0 0 1 0\n",
      " 1 0 1 1 1 0 1 1 0 0 1 0 0 0 0 1 0 0 0 1 0 1 0 1 1 0 1 0 0 0 0 1 1 0 0 1 1\n",
      " 1 0 1 1 1 1 1 0 0 1 1 0 1 1 0 0 1 0 1 1 1 1 0 1 1 1 1 1 0 1 0 0 0 0 0 0 0\n",
      " 0 0 0 0 0 0 0 1 1 1 1 1 1 0 1 0 1 1 0 1 1 0 1 0 0 1 1 1 1 1 1 1 1 1 1 1 1\n",
      " 1 0 1 1 0 1 0 1 1 1 1 1 1 1 1 1 1 1 1 1 1 0 1 1 1 0 1 0 1 1 1 1 0 0 0 1 1\n",
      " 1 1 0 1 0 1 0 1 1 1 0 1 1 1 1 1 1 1 0 0 0 1 1 1 1 1 1 1 1 1 1 1 0 0 1 0 0\n",
      " 0 1 0 0 1 1 1 1 1 0 1 1 1 1 1 0 1 1 1 0 1 1 0 0 1 1 1 1 1 1 0 1 1 1 1 1 1\n",
      " 1 0 1 1 1 1 1 0 1 1 0 1 1 1 1 1 1 1 1 1 1 1 1 0 1 0 0 1 0 1 1 1 1 1 0 1 1\n",
      " 0 1 0 1 1 0 1 0 1 1 1 1 1 1 1 1 0 0 1 1 1 1 1 1 0 1 1 1 1 1 1 1 1 1 1 0 1\n",
      " 1 1 1 1 1 1 0 1 0 1 1 0 1 1 1 1 1 0 0 1 0 1 0 1 1 1 1 1 0 1 1 0 1 0 1 0 0\n",
      " 1 1 1 0 1 1 1 1 1 1 1 1 1 1 1 0 1 0 0 1 1 1 1 1 1 1 1 1 1 1 1 1 1 1 1 1 1\n",
      " 1 1 1 1 1 1 1 0 0 0 0 0 0 1]\n"
     ]
    }
   ],
   "source": [
    "print(breast_cancer.target.shape)\n",
    "print(breast_cancer.target)"
   ]
  },
  {
   "cell_type": "code",
   "execution_count": 9,
   "metadata": {},
   "outputs": [
    {
     "name": "stdout",
     "output_type": "stream",
     "text": [
      "['malignant' 'benign']\n"
     ]
    }
   ],
   "source": [
    "print(breast_cancer.target_names)"
   ]
  },
  {
   "cell_type": "code",
   "execution_count": 10,
   "metadata": {},
   "outputs": [
    {
     "data": {
      "image/png": "[encoded data removed]",
      "text/plain": [
       "<Figure size 432x288 with 2 Axes>"
      ]
     },
     "metadata": {
      "needs_background": "light"
     },
     "output_type": "display_data"
    }
   ],
   "source": [
    "# quick view for breast_cancer datasets\n",
    "\n",
    "# breast_cancer.data has 30 features\n",
    "x_index = 0 # mean radius\n",
    "y_index = 4 # mean smoothness\n",
    "\n",
    "#   0   'mean radius', 'mean texture', 'mean perimeter', 'mean area', 'mean smoothness',\n",
    "#   5   'mean compactness', 'mean concavity', 'mean concave points', 'mean symmetry', 'mean fractal dimension',\n",
    "#  10   'radius error', 'texture error', 'perimeter error', 'area error', 'smoothness error',\n",
    "#  15   'compactness error', 'concavity error', 'concave points error', 'symmetry error', 'fractal dimension error',\n",
    "#  20   'worst radius', 'worst texture', 'worst perimeter', 'worst area', 'worst smoothness',\n",
    "#  25   'worst compactness', 'worst concavity', 'worst concave points', 'worst symmetry', 'worst fractal dimension'\n",
    "\n",
    "# this formatter will label the colorbar with the correct target names\n",
    "formatter = plt.FuncFormatter(lambda i, *args: breast_cancer.target_names[int(i)])\n",
    "\n",
    "plt.scatter(breast_cancer.data[:, x_index], breast_cancer.data[:, y_index],\n",
    "            c=breast_cancer.target, cmap=plt.cm.get_cmap('tab20b_r', 2))    # 'tab20b_r' is color code of matplotlib\n",
    "plt.colorbar(ticks=[0, 1], format=formatter)\n",
    "plt.clim(-0.5, 2.5)\n",
    "plt.xlabel(breast_cancer.feature_names[x_index])\n",
    "plt.ylabel(breast_cancer.feature_names[y_index]);"
   ]
  },
  {
   "cell_type": "markdown",
   "metadata": {},
   "source": [
    "# 2. Split the datasets"
   ]
  },
  {
   "cell_type": "code",
   "execution_count": 11,
   "metadata": {},
   "outputs": [],
   "source": [
    "x = breast_cancer.data\n",
    "y = breast_cancer.target\n",
    "\n",
    "from sklearn.model_selection import train_test_split\n",
    "# add random_state to fix the seed used by the random number generator\n",
    "x_train, x_test, y_train, y_test = train_test_split(breast_cancer.data, breast_cancer.target,\n",
    "                                                    test_size = 0.2, random_state=0) "
   ]
  },
  {
   "cell_type": "markdown",
   "metadata": {},
   "source": [
    "# 3. Set estimators"
   ]
  },
  {
   "cell_type": "markdown",
   "metadata": {},
   "source": [
    "## 3-1 Set estimator - RF\n",
    "RF: set your parameters (n_estimators, max_depth)"
   ]
  },
  {
   "cell_type": "code",
   "execution_count": 43,
   "metadata": {},
   "outputs": [],
   "source": [
    "from sklearn.ensemble import RandomForestClassifier\n",
    "# add random_state to fix the seed used by the random number generator\n",
    "RF = RandomForestClassifier(random_state=0, n_estimators=100, max_depth=10)"
   ]
  },
  {
   "cell_type": "markdown",
   "metadata": {},
   "source": [
    "## 3-2 Set estimator - SVM\n",
    "SVM: use non-linear kernel"
   ]
  },
  {
   "cell_type": "code",
   "execution_count": 49,
   "metadata": {},
   "outputs": [],
   "source": [
    "from sklearn.svm import SVC  # \"Support Vector Classifier\"\n",
    "SVM = SVC(kernel='rbf', probability=True) # non-linear: 'poly', 'rbf', 'sigmoid', 'precomputed' or a callable"
   ]
  },
  {
   "cell_type": "markdown",
   "metadata": {},
   "source": [
    "# 4. Training the model"
   ]
  },
  {
   "cell_type": "markdown",
   "metadata": {},
   "source": [
    "## 4-1 Training the model - RF"
   ]
  },
  {
   "cell_type": "code",
   "execution_count": 14,
   "metadata": {},
   "outputs": [
    {
     "data": {
      "text/plain": [
       "RandomForestClassifier(bootstrap=True, class_weight=None, criterion='gini',\n",
       "            max_depth=2, max_features='auto', max_leaf_nodes=None,\n",
       "            min_impurity_decrease=0.0, min_impurity_split=None,\n",
       "            min_samples_leaf=1, min_samples_split=2,\n",
       "            min_weight_fraction_leaf=0.0, n_estimators=100, n_jobs=1,\n",
       "            oob_score=False, random_state=0, verbose=0, warm_start=False)"
      ]
     },
     "execution_count": 14,
     "metadata": {},
     "output_type": "execute_result"
    }
   ],
   "source": [
    "RF.fit(x_train, y_train)"
   ]
  },
  {
   "cell_type": "markdown",
   "metadata": {},
   "source": [
    "## 4-2 Training the model - SVM"
   ]
  },
  {
   "cell_type": "code",
   "execution_count": null,
   "metadata": {},
   "outputs": [],
   "source": [
    "SVM.fit(x_train, y_train)"
   ]
  },
  {
   "cell_type": "markdown",
   "metadata": {},
   "source": [
    "# 5. Prediction"
   ]
  },
  {
   "cell_type": "markdown",
   "metadata": {},
   "source": [
    "## 5-1 Prediction - RF"
   ]
  },
  {
   "cell_type": "code",
   "execution_count": 24,
   "metadata": {},
   "outputs": [
    {
     "data": {
      "text/plain": [
       "array([0, 1, 1, 1, 1, 1, 1, 1, 1, 1, 0, 1, 1, 0, 1, 0, 1, 0, 0, 0, 0, 0,\n",
       "       1, 1, 0, 1, 1, 0, 1, 0, 1, 0, 1, 0, 1, 0, 1, 0, 1, 0, 1, 1, 0, 1,\n",
       "       1, 0, 1, 1, 1, 0, 0, 0, 0, 1, 1, 1, 1, 1, 1, 0, 0, 0, 1, 1, 0, 1,\n",
       "       0, 0, 0, 1, 1, 0, 1, 1, 0, 1, 1, 1, 1, 1, 0, 0, 0, 1, 0, 1, 1, 1,\n",
       "       0, 0, 1, 0, 1, 0, 1, 1, 0, 1, 1, 1, 1, 1, 1, 1, 0, 1, 0, 1, 1, 0,\n",
       "       1, 0, 0, 1])"
      ]
     },
     "execution_count": 24,
     "metadata": {},
     "output_type": "execute_result"
    }
   ],
   "source": [
    "y_pred_RF = RF.predict(x_test)\n",
    "y_pred_RF"
   ]
  },
  {
   "cell_type": "markdown",
   "metadata": {},
   "source": [
    "## 5-2 Prediction - SVM"
   ]
  },
  {
   "cell_type": "code",
   "execution_count": 46,
   "metadata": {},
   "outputs": [
    {
     "data": {
      "text/plain": [
       "array([1, 1, 1, 1, 1, 1, 1, 1, 1, 1, 1, 1, 1, 1, 1, 1, 1, 1, 1, 1, 1, 1,\n",
       "       1, 1, 1, 1, 1, 1, 1, 1, 1, 1, 1, 1, 1, 1, 1, 1, 1, 1, 1, 1, 1, 1,\n",
       "       1, 1, 1, 1, 1, 1, 1, 1, 1, 1, 1, 1, 1, 1, 1, 1, 1, 1, 1, 1, 1, 1,\n",
       "       1, 1, 1, 1, 1, 1, 1, 1, 1, 1, 1, 1, 1, 1, 1, 1, 1, 1, 1, 1, 1, 1,\n",
       "       1, 1, 1, 1, 1, 1, 1, 1, 1, 1, 1, 1, 1, 1, 1, 1, 1, 1, 1, 1, 1, 1,\n",
       "       1, 1, 1, 1])"
      ]
     },
     "execution_count": 46,
     "metadata": {},
     "output_type": "execute_result"
    }
   ],
   "source": [
    "y_pred_SVM = SVM.predict(x_test)\n",
    "y_pred_SVM"
   ]
  },
  {
   "cell_type": "markdown",
   "metadata": {},
   "source": [
    "# 6. Evaluate (cross-validation and confusion matrix)"
   ]
  },
  {
   "cell_type": "markdown",
   "metadata": {},
   "source": [
    "### Correct"
   ]
  },
  {
   "cell_type": "code",
   "execution_count": 26,
   "metadata": {},
   "outputs": [
    {
     "name": "stdout",
     "output_type": "stream",
     "text": [
      "RF: 109 / 114 correct\n",
      "SNM: 67 / 114 correct\n"
     ]
    }
   ],
   "source": [
    "print('RF:',\"{0} / {1} correct\".format(np.sum(y_test == y_pred_RF), len(y_test)))\n",
    "print('SNM:',\"{0} / {1} correct\".format(np.sum(y_test == y_pred_SVM), len(y_test)))"
   ]
  },
  {
   "cell_type": "markdown",
   "metadata": {},
   "source": [
    "### Accuracy score"
   ]
  },
  {
   "cell_type": "code",
   "execution_count": 27,
   "metadata": {},
   "outputs": [
    {
     "name": "stdout",
     "output_type": "stream",
     "text": [
      "Accuracy of  RF: 0.956140350877193\n",
      "Accuracy of SVM: 0.5877192982456141\n"
     ]
    }
   ],
   "source": [
    "from sklearn.metrics import accuracy_score\n",
    "print('Accuracy of  RF:' ,accuracy_score(y_test, y_pred_RF))\n",
    "print('Accuracy of SVM:' ,accuracy_score(y_test, y_pred_SVM))"
   ]
  },
  {
   "cell_type": "markdown",
   "metadata": {},
   "source": [
    "### Classification report"
   ]
  },
  {
   "cell_type": "code",
   "execution_count": 28,
   "metadata": {},
   "outputs": [
    {
     "name": "stdout",
     "output_type": "stream",
     "text": [
      "[Table_RF]\n",
      "              precision    recall  f1-score   support\n",
      "\n",
      "          0       0.94      0.96      0.95        46\n",
      "          1       0.97      0.96      0.96        68\n",
      "\n",
      "avg / total       0.96      0.96      0.96       114\n",
      " \n",
      "\n",
      "\n",
      "\n",
      "\n",
      "[Table_SVM]\n",
      "              precision    recall  f1-score   support\n",
      "\n",
      "          0       0.00      0.00      0.00         0\n",
      "          1       1.00      0.59      0.74       114\n",
      "\n",
      "avg / total       1.00      0.59      0.74       114\n",
      "\n"
     ]
    },
    {
     "name": "stderr",
     "output_type": "stream",
     "text": [
      "/Users/Jennifer/anaconda3/lib/python3.7/site-packages/sklearn/metrics/classification.py:1137: UndefinedMetricWarning: Recall and F-score are ill-defined and being set to 0.0 in labels with no true samples.\n",
      "  'recall', 'true', average, warn_for)\n"
     ]
    }
   ],
   "source": [
    "from sklearn import metrics\n",
    "Table_RF = metrics.classification_report(y_pred_RF, y_test)\n",
    "Table_SVM = metrics.classification_report(y_pred_SVM, y_test)\n",
    "print ('[Table_RF]\\n', Table_RF, '\\n\\n\\n\\n\\n[Table_SVM]\\n', Table_SVM)"
   ]
  },
  {
   "cell_type": "markdown",
   "metadata": {},
   "source": [
    "### Cross-validation"
   ]
  },
  {
   "cell_type": "code",
   "execution_count": 42,
   "metadata": {},
   "outputs": [
    {
     "name": "stdout",
     "output_type": "stream",
     "text": [
      "cross_val_score_RF : [0.93043478 0.93913043 0.96460177 0.95575221 0.96460177]\n",
      "cross_val_score_SVM: [0.62608696 0.62608696 0.62831858 0.62831858 0.62831858]\n",
      "\n",
      " RF 95 confidence interval: 0.95 (+/- 0.03)\n",
      "SVM 95 confidence interval: 0.63 (+/- 0.00)\n"
     ]
    }
   ],
   "source": [
    "from sklearn.model_selection import cross_val_score\n",
    "scores_RF = cross_val_score(RF, x, y, cv=5)\n",
    "scores_SVM = cross_val_score(SVM, x, y, cv=5)\n",
    "print('cross_val_score_RF :', scores_RF)\n",
    "print('cross_val_score_SVM:', scores_SVM)\n",
    "# The mean score and the 95% confidence interval of the score estimate are hence given by:\n",
    "print(\"\\n RF 95 confidence interval: %0.2f (+/- %0.2f)\" % (scores_RF.mean(), scores_RF.std() * 2))\n",
    "print(\"SVM 95 confidence interval: %0.2f (+/- %0.2f)\" % (scores_SVM.mean(), scores_SVM.std() * 2))"
   ]
  },
  {
   "cell_type": "markdown",
   "metadata": {},
   "source": [
    "### Confusion matrix"
   ]
  },
  {
   "cell_type": "code",
   "execution_count": 31,
   "metadata": {},
   "outputs": [
    {
     "name": "stdout",
     "output_type": "stream",
     "text": [
      "confmat_RF\n",
      " [[44  3]\n",
      " [ 2 65]] \n",
      "\n",
      "confmat_SVM\n",
      " [[ 0 47]\n",
      " [ 0 67]]\n"
     ]
    }
   ],
   "source": [
    "from sklearn.metrics import confusion_matrix\n",
    "confmat_RF = confusion_matrix(y_true=y_test, y_pred=y_pred_RF)\n",
    "confmat_SVM = confusion_matrix(y_true=y_test, y_pred=y_pred_SVM)\n",
    "print ('confmat_RF\\n', confmat_RF, '\\n\\nconfmat_SVM\\n', confmat_SVM)"
   ]
  },
  {
   "cell_type": "code",
   "execution_count": 32,
   "metadata": {},
   "outputs": [],
   "source": [
    "import seaborn as sns; sns.set()"
   ]
  },
  {
   "cell_type": "code",
   "execution_count": 33,
   "metadata": {},
   "outputs": [
    {
     "name": "stdout",
     "output_type": "stream",
     "text": [
      "RF confusion matrix\n"
     ]
    },
    {
     "data": {
      "image/png": "[encoded data removed]",
      "text/plain": [
       "<Figure size 432x288 with 1 Axes>"
      ]
     },
     "metadata": {},
     "output_type": "display_data"
    }
   ],
   "source": [
    "# visulization - RF\n",
    "print('RF confusion matrix')\n",
    "sns.heatmap(confmat_RF.T, square=True, annot=True, fmt='d', cbar=False)\n",
    "plt.xlabel('predicted label')\n",
    "plt.ylabel('true label');"
   ]
  },
  {
   "cell_type": "markdown",
   "metadata": {},
   "source": [
    "RF: I find that a simple, untuned random forest results in a very accurate classification of the breast cancer data."
   ]
  },
  {
   "cell_type": "code",
   "execution_count": 34,
   "metadata": {},
   "outputs": [
    {
     "name": "stdout",
     "output_type": "stream",
     "text": [
      "SVM confusion matrix\n"
     ]
    },
    {
     "data": {
      "image/png": "[encoded data removed]",
      "text/plain": [
       "<Figure size 432x288 with 1 Axes>"
      ]
     },
     "metadata": {},
     "output_type": "display_data"
    }
   ],
   "source": [
    "# visulization - SVM\n",
    "print('SVM confusion matrix')\n",
    "sns.heatmap(confmat_SVM.T, square=True, annot=True, fmt='d', cbar=False)\n",
    "plt.xlabel('predicted label')\n",
    "plt.ylabel('true label');"
   ]
  },
  {
   "cell_type": "markdown",
   "metadata": {},
   "source": [
    "SVM: I find that a untuned SVM results in a medium accurate classification of the breast cancer data.\n",
    "     Maybe I need to tune the parameters in order to get better results."
   ]
  },
  {
   "cell_type": "markdown",
   "metadata": {},
   "source": [
    "### Probabilities for each label"
   ]
  },
  {
   "cell_type": "code",
   "execution_count": 36,
   "metadata": {},
   "outputs": [
    {
     "data": {
      "text/plain": [
       "array([[0.7348619 , 0.2651381 ],\n",
       "       [0.04448881, 0.95551119],\n",
       "       [0.04227463, 0.95772537],\n",
       "       [0.11620911, 0.88379089],\n",
       "       [0.038058  , 0.961942  ],\n",
       "       [0.038058  , 0.961942  ],\n",
       "       [0.0516957 , 0.9483043 ],\n",
       "       [0.04356649, 0.95643351],\n",
       "       [0.04448881, 0.95551119],\n",
       "       [0.038058  , 0.961942  ],\n",
       "       [0.59625811, 0.40374189],\n",
       "       [0.12057799, 0.87942201],\n",
       "       [0.04102911, 0.95897089],\n",
       "       [0.64215526, 0.35784474],\n",
       "       [0.4891325 , 0.5108675 ],\n",
       "       [0.89368067, 0.10631933],\n",
       "       [0.2093166 , 0.7906834 ],\n",
       "       [0.96534209, 0.03465791],\n",
       "       [0.95951309, 0.04048691],\n",
       "       [0.97434194, 0.02565806],\n",
       "       [0.7867613 , 0.2132387 ],\n",
       "       [0.91762977, 0.08237023],\n",
       "       [0.09585389, 0.90414611],\n",
       "       [0.03713887, 0.96286113],\n",
       "       [0.92456977, 0.07543023],\n",
       "       [0.03713887, 0.96286113],\n",
       "       [0.03713887, 0.96286113],\n",
       "       [0.66799943, 0.33200057],\n",
       "       [0.03713887, 0.96286113],\n",
       "       [0.96807033, 0.03192967],\n",
       "       [0.03713887, 0.96286113],\n",
       "       [0.90892944, 0.09107056],\n",
       "       [0.16633338, 0.83366662],\n",
       "       [0.84949333, 0.15050667],\n",
       "       [0.03713887, 0.96286113],\n",
       "       [0.76738349, 0.23261651],\n",
       "       [0.03713887, 0.96286113],\n",
       "       [0.86623589, 0.13376411],\n",
       "       [0.10018665, 0.89981335],\n",
       "       [0.91301785, 0.08698215],\n",
       "       [0.40420347, 0.59579653],\n",
       "       [0.05566449, 0.94433551],\n",
       "       [0.58303279, 0.41696721],\n",
       "       [0.03713887, 0.96286113],\n",
       "       [0.42493631, 0.57506369],\n",
       "       [0.96944506, 0.03055494],\n",
       "       [0.03713887, 0.96286113],\n",
       "       [0.05229107, 0.94770893],\n",
       "       [0.03713887, 0.96286113],\n",
       "       [0.8794364 , 0.1205636 ],\n",
       "       [0.94080701, 0.05919299],\n",
       "       [0.77557645, 0.22442355],\n",
       "       [0.91516076, 0.08483924],\n",
       "       [0.03713887, 0.96286113],\n",
       "       [0.038058  , 0.961942  ],\n",
       "       [0.03713887, 0.96286113],\n",
       "       [0.04448881, 0.95551119],\n",
       "       [0.05952066, 0.94047934],\n",
       "       [0.04448881, 0.95551119],\n",
       "       [0.97434194, 0.02565806],\n",
       "       [0.67242813, 0.32757187],\n",
       "       [0.94359509, 0.05640491],\n",
       "       [0.04206219, 0.95793781],\n",
       "       [0.04356649, 0.95643351],\n",
       "       [0.95989283, 0.04010717],\n",
       "       [0.10099359, 0.89900641],\n",
       "       [0.96944506, 0.03055494],\n",
       "       [0.97077051, 0.02922949],\n",
       "       [0.96944506, 0.03055494],\n",
       "       [0.04448881, 0.95551119],\n",
       "       [0.33934744, 0.66065256],\n",
       "       [0.97434194, 0.02565806],\n",
       "       [0.03713887, 0.96286113],\n",
       "       [0.2466688 , 0.7533312 ],\n",
       "       [0.97434194, 0.02565806],\n",
       "       [0.04974249, 0.95025751],\n",
       "       [0.06258305, 0.93741695],\n",
       "       [0.1427759 , 0.8572241 ],\n",
       "       [0.03713887, 0.96286113],\n",
       "       [0.04114306, 0.95885694],\n",
       "       [0.84009503, 0.15990497],\n",
       "       [0.96944506, 0.03055494],\n",
       "       [0.9635058 , 0.0364942 ],\n",
       "       [0.04638186, 0.95361814],\n",
       "       [0.90966482, 0.09033518],\n",
       "       [0.038058  , 0.961942  ],\n",
       "       [0.04742129, 0.95257871],\n",
       "       [0.03713887, 0.96286113],\n",
       "       [0.89682677, 0.10317323],\n",
       "       [0.97434194, 0.02565806],\n",
       "       [0.038058  , 0.961942  ],\n",
       "       [0.53243613, 0.46756387],\n",
       "       [0.32461502, 0.67538498],\n",
       "       [0.8749607 , 0.1250393 ],\n",
       "       [0.04849301, 0.95150699],\n",
       "       [0.04263939, 0.95736061],\n",
       "       [0.96707723, 0.03292277],\n",
       "       [0.44703103, 0.55296897],\n",
       "       [0.03920219, 0.96079781],\n",
       "       [0.03713887, 0.96286113],\n",
       "       [0.07659448, 0.92340552],\n",
       "       [0.03713887, 0.96286113],\n",
       "       [0.10694913, 0.89305087],\n",
       "       [0.07281222, 0.92718778],\n",
       "       [0.97434194, 0.02565806],\n",
       "       [0.21097596, 0.78902404],\n",
       "       [0.96591121, 0.03408879],\n",
       "       [0.11380837, 0.88619163],\n",
       "       [0.47294368, 0.52705632],\n",
       "       [0.8254598 , 0.1745402 ],\n",
       "       [0.03736947, 0.96263053],\n",
       "       [0.97016021, 0.02983979],\n",
       "       [0.97134209, 0.02865791],\n",
       "       [0.39547327, 0.60452673]])"
      ]
     },
     "execution_count": 36,
     "metadata": {},
     "output_type": "execute_result"
    }
   ],
   "source": [
    "RF.predict_proba(x_test)  #show the probabilities for each label (0,1) by RF model"
   ]
  },
  {
   "cell_type": "code",
   "execution_count": 37,
   "metadata": {},
   "outputs": [
    {
     "data": {
      "text/plain": [
       "array([[0.40690009, 0.59309991],\n",
       "       [0.03169372, 0.96830628],\n",
       "       [0.35236963, 0.64763037],\n",
       "       [0.4083597 , 0.5916403 ],\n",
       "       [0.40690303, 0.59309697],\n",
       "       [0.3204587 , 0.6795413 ],\n",
       "       [0.40689875, 0.59310125],\n",
       "       [0.39186324, 0.60813676],\n",
       "       [0.40690199, 0.59309801],\n",
       "       [0.39612016, 0.60387984],\n",
       "       [0.40690852, 0.59309148],\n",
       "       [0.40695977, 0.59304023],\n",
       "       [0.40404342, 0.59595658],\n",
       "       [0.40690304, 0.59309696],\n",
       "       [0.40896341, 0.59103659],\n",
       "       [0.40690304, 0.59309696],\n",
       "       [0.40690211, 0.59309789],\n",
       "       [0.40690304, 0.59309696],\n",
       "       [0.40690304, 0.59309696],\n",
       "       [0.40690304, 0.59309696],\n",
       "       [0.40690304, 0.59309696],\n",
       "       [0.40690304, 0.59309696],\n",
       "       [0.40690254, 0.59309746],\n",
       "       [0.39873504, 0.60126496],\n",
       "       [0.40690304, 0.59309696],\n",
       "       [0.36567917, 0.63432083],\n",
       "       [0.39230867, 0.60769133],\n",
       "       [0.40634975, 0.59365025],\n",
       "       [0.40655101, 0.59344899],\n",
       "       [0.40690304, 0.59309696],\n",
       "       [0.38276893, 0.61723107],\n",
       "       [0.40753293, 0.59246707],\n",
       "       [0.39593031, 0.60406969],\n",
       "       [0.40690304, 0.59309696],\n",
       "       [0.39912418, 0.60087582],\n",
       "       [0.40690304, 0.59309696],\n",
       "       [0.40085129, 0.59914871],\n",
       "       [0.40690304, 0.59309696],\n",
       "       [0.40034275, 0.59965725],\n",
       "       [0.40690304, 0.59309696],\n",
       "       [0.40690304, 0.59309696],\n",
       "       [0.40690298, 0.59309702],\n",
       "       [0.40690304, 0.59309696],\n",
       "       [0.35488254, 0.64511746],\n",
       "       [0.4069156 , 0.5930844 ],\n",
       "       [0.40690304, 0.59309696],\n",
       "       [0.40669225, 0.59330775],\n",
       "       [0.40391522, 0.59608478],\n",
       "       [0.40678507, 0.59321493],\n",
       "       [0.40690309, 0.59309691],\n",
       "       [0.40690304, 0.59309696],\n",
       "       [0.4068863 , 0.5931137 ],\n",
       "       [0.40690304, 0.59309696],\n",
       "       [0.40542666, 0.59457334],\n",
       "       [0.3625694 , 0.6374306 ],\n",
       "       [0.12052806, 0.87947194],\n",
       "       [0.40657663, 0.59342337],\n",
       "       [0.40689745, 0.59310255],\n",
       "       [0.10261685, 0.89738315],\n",
       "       [0.40690304, 0.59309696],\n",
       "       [0.40690306, 0.59309694],\n",
       "       [0.42769404, 0.57230596],\n",
       "       [0.36770283, 0.63229717],\n",
       "       [0.02704583, 0.97295417],\n",
       "       [0.40690304, 0.59309696],\n",
       "       [0.40690304, 0.59309696],\n",
       "       [0.40690304, 0.59309696],\n",
       "       [0.40690304, 0.59309696],\n",
       "       [0.40691564, 0.59308436],\n",
       "       [0.40659429, 0.59340571],\n",
       "       [0.40689218, 0.59310782],\n",
       "       [0.40690304, 0.59309696],\n",
       "       [0.11197165, 0.88802835],\n",
       "       [0.40690199, 0.59309801],\n",
       "       [0.40690304, 0.59309696],\n",
       "       [0.40358565, 0.59641435],\n",
       "       [0.04767901, 0.95232099],\n",
       "       [0.23882584, 0.76117416],\n",
       "       [0.25318855, 0.74681145],\n",
       "       [0.40690268, 0.59309732],\n",
       "       [0.40690304, 0.59309696],\n",
       "       [0.40690304, 0.59309696],\n",
       "       [0.40690304, 0.59309696],\n",
       "       [0.4068822 , 0.5931178 ],\n",
       "       [0.40690304, 0.59309696],\n",
       "       [0.04704113, 0.95295887],\n",
       "       [0.32813657, 0.67186343],\n",
       "       [0.39082252, 0.60917748],\n",
       "       [0.40690304, 0.59309696],\n",
       "       [0.40690304, 0.59309696],\n",
       "       [0.40532547, 0.59467453],\n",
       "       [0.40690375, 0.59309625],\n",
       "       [0.40690304, 0.59309696],\n",
       "       [0.40690308, 0.59309692],\n",
       "       [0.40686262, 0.59313738],\n",
       "       [0.37461934, 0.62538066],\n",
       "       [0.40690304, 0.59309696],\n",
       "       [0.32352908, 0.67647092],\n",
       "       [0.00568352, 0.99431648],\n",
       "       [0.39396331, 0.60603669],\n",
       "       [0.40659243, 0.59340757],\n",
       "       [0.02105722, 0.97894278],\n",
       "       [0.37584658, 0.62415342],\n",
       "       [0.40673267, 0.59326733],\n",
       "       [0.40693669, 0.59306331],\n",
       "       [0.40675846, 0.59324154],\n",
       "       [0.40690307, 0.59309693],\n",
       "       [0.40094256, 0.59905744],\n",
       "       [0.40690304, 0.59309696],\n",
       "       [0.40690304, 0.59309696],\n",
       "       [0.40172771, 0.59827229],\n",
       "       [0.40690304, 0.59309696],\n",
       "       [0.40690304, 0.59309696],\n",
       "       [0.40690304, 0.59309696]])"
      ]
     },
     "execution_count": 37,
     "metadata": {},
     "output_type": "execute_result"
    }
   ],
   "source": [
    "SVM.predict_proba(x_test)  #show the probabilities for each label (0,1) by SVM model"
   ]
  }
 ],
 "metadata": {
  "kernelspec": {
   "display_name": "Python 3",
   "language": "python",
   "name": "python3"
  },
  "language_info": {
   "codemirror_mode": {
    "name": "ipython",
    "version": 3
   },
   "file_extension": ".py",
   "mimetype": "text/x-python",
   "name": "python",
   "nbconvert_exporter": "python",
   "pygments_lexer": "ipython3",
   "version": "3.7.1"
  }
 },
 "nbformat": 4,
 "nbformat_minor": 2
}
