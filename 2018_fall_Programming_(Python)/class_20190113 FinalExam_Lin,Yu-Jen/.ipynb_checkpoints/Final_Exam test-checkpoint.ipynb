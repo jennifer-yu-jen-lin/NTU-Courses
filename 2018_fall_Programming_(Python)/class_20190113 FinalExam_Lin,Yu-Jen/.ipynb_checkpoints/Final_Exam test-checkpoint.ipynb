{
 "cells": [
  {
   "cell_type": "code",
   "execution_count": 1,
   "metadata": {},
   "outputs": [],
   "source": [
    "import re"
   ]
  },
  {
   "cell_type": "markdown",
   "metadata": {},
   "source": [
    "# 1"
   ]
  },
  {
   "cell_type": "code",
   "execution_count": 2,
   "metadata": {},
   "outputs": [],
   "source": [
    "string = \"aaaaccddeebbbff\""
   ]
  },
  {
   "cell_type": "code",
   "execution_count": 3,
   "metadata": {},
   "outputs": [
    {
     "name": "stdout",
     "output_type": "stream",
     "text": [
      "b\n"
     ]
    }
   ],
   "source": [
    "#(a)\n",
    "pattern = \"a?b\" \n",
    "match = re.search(pattern, string) \n",
    "print(match.group())"
   ]
  },
  {
   "cell_type": "code",
   "execution_count": 4,
   "metadata": {},
   "outputs": [
    {
     "name": "stdout",
     "output_type": "stream",
     "text": [
      "ebb\n"
     ]
    }
   ],
   "source": [
    "#(b)\n",
    "pattern=\"eb?b\"\n",
    "match = re.search(pattern, string)\n",
    "print(match.group())"
   ]
  },
  {
   "cell_type": "code",
   "execution_count": 5,
   "metadata": {},
   "outputs": [
    {
     "name": "stdout",
     "output_type": "stream",
     "text": [
      "aac\n"
     ]
    }
   ],
   "source": [
    "#(c)\n",
    "pattern = \"a{2}c\"\n",
    "match = re.search(pattern, string)  \n",
    "print(match.group())"
   ]
  },
  {
   "cell_type": "code",
   "execution_count": 6,
   "metadata": {},
   "outputs": [
    {
     "name": "stdout",
     "output_type": "stream",
     "text": [
      "['d', 'd', 'e', 'e', 'f', 'f']\n"
     ]
    }
   ],
   "source": [
    "#(d)\n",
    "pattern = \"[^a-c]\"\n",
    "print(re.findall(pattern, string))"
   ]
  },
  {
   "cell_type": "code",
   "execution_count": 7,
   "metadata": {},
   "outputs": [
    {
     "name": "stdout",
     "output_type": "stream",
     "text": [
      "[]\n"
     ]
    }
   ],
   "source": [
    "#(e)\n",
    "pattern = \"^d\"\n",
    "print(re.findall(pattern, string))"
   ]
  },
  {
   "cell_type": "markdown",
   "metadata": {},
   "source": [
    "# 2"
   ]
  },
  {
   "cell_type": "code",
   "execution_count": 8,
   "metadata": {},
   "outputs": [
    {
     "name": "stdout",
     "output_type": "stream",
     "text": [
      "\n",
      "<HW10-6>\n",
      "Allison Neu 555-8396\n",
      "C. Montgomery Burns \n",
      "Lionel Putz 555-5299\n",
      "Homer Jay Simpson 555-7334\n"
     ]
    }
   ],
   "source": [
    "Input = [\"555-8396 Neu, Allison\",\n",
    "     \"Burns, C. Montgomery\",\n",
    "     \"555-5299 Putz, Lionel\",\n",
    "     \"555-7334 Simpson, Homer Jay\"]\n",
    "for i in Input:\n",
    "    search = re.search(r\"([0-9-]*)\\s*([A-Za-z]+),\\s+(.*)\", i)\n",
    "    print(search.group(3) + \" \" + search.group(2) + \" \" + search.group(1))\n"
   ]
  },
  {
   "cell_type": "code",
   "execution_count": 10,
   "metadata": {},
   "outputs": [],
   "source": [
    "class Car(object):\n",
    "    def __init__(self, w, d):\n",
    "        self.wheels = w\n",
    "        self.doors = d\n",
    "        self.color = \"\"\n",
    "    def paint(self, c):\n",
    "        self.color = c"
   ]
  },
  {
   "cell_type": "code",
   "execution_count": 13,
   "metadata": {},
   "outputs": [],
   "source": [
    "mycar = Car(4, 2)"
   ]
  },
  {
   "cell_type": "code",
   "execution_count": 15,
   "metadata": {},
   "outputs": [],
   "source": [
    "mycar.paint(\"red\")"
   ]
  }
 ],
 "metadata": {
  "kernelspec": {
   "display_name": "Python 3",
   "language": "python",
   "name": "python3"
  },
  "language_info": {
   "codemirror_mode": {
    "name": "ipython",
    "version": 3
   },
   "file_extension": ".py",
   "mimetype": "text/x-python",
   "name": "python",
   "nbconvert_exporter": "python",
   "pygments_lexer": "ipython3",
   "version": "3.7.1"
  }
 },
 "nbformat": 4,
 "nbformat_minor": 2
}
