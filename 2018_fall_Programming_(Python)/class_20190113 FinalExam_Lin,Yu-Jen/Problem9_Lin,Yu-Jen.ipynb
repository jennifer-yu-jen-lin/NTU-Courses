{
 "cells": [
  {
   "cell_type": "markdown",
   "metadata": {},
   "source": [
    "##### Lin, Yu-Jen\n",
    "##### NTU student ID: b04b01036\n",
    "##### email: b04b01036@ntu.edu.tw"
   ]
  },
  {
   "attachments": {},
   "cell_type": "markdown",
   "metadata": {},
   "source": [
    "# 9. Regular Expression"
   ]
  },
  {
   "cell_type": "code",
   "execution_count": 1,
   "metadata": {},
   "outputs": [],
   "source": [
    "import re"
   ]
  },
  {
   "attachments": {},
   "cell_type": "markdown",
   "metadata": {},
   "source": [
    "### Please read the fast sequence from the file Final_exam_Regex_input.fasta using Biopython. "
   ]
  },
  {
   "cell_type": "code",
   "execution_count": 2,
   "metadata": {},
   "outputs": [],
   "source": [
    "from Bio import SeqIO\n",
    "Regex_input = SeqIO.read(\"Final_exam_Regex_input.fasta\", \"fasta\")"
   ]
  },
  {
   "cell_type": "markdown",
   "metadata": {},
   "source": [
    "### Use regular expression to find the position of the pattern “ggatcc”, “cggccg”, “gccggc”, “gaattc”. Please write the output into a .txt file(Problem9_yourname.txt). \n",
    "### The output should be a tab-delimited table of the form: \n",
    "##### Pattern\\tPosition-1, Position-2, …,Position-n\n",
    "##### Note: \\t denotes tab-delimited format"
   ]
  },
  {
   "cell_type": "code",
   "execution_count": 3,
   "metadata": {},
   "outputs": [
    {
     "name": "stdout",
     "output_type": "stream",
     "text": [
      "ggatcc\t2069,2070,2071,2072,2073,2075\n",
      "cggccg\t2088,2089,2090,2091,2092,2094\n",
      "gccggc\t1675,1676,1677,1678,1679,1681\n",
      "gaattc\t2051,2052,2053,2054,2055,2057\n"
     ]
    }
   ],
   "source": [
    "output = open(\"Problem9_Lin,Yu-Jen.txt\", \"w+\")\n",
    "\n",
    "# “ggatcc”\n",
    "for i in re.finditer(\"ggatcc\", str(Regex_input.seq)):\n",
    "    output.write('%s\\t%d,%d,%d,%d,%d,%d\\n' % ('ggatcc',i.start(),i.start()+1,i.start()+2,\n",
    "                                     i.start()+3,i.start()+4, i.end()))\n",
    "    print('%s\\t%d,%d,%d,%d,%d,%d' % ('ggatcc',i.start(),i.start()+1,i.start()+2,\n",
    "                                     i.start()+3,i.start()+4, i.end()))\n",
    "\n",
    "# “cggccg”\n",
    "for i in re.finditer(\"cggccg\", str(Regex_input.seq)):\n",
    "    output.write('%s\\t%d,%d,%d,%d,%d,%d\\n' % ('cggccg',i.start(),i.start()+1,i.start()+2,\n",
    "                                     i.start()+3,i.start()+4, i.end()))\n",
    "    print('%s\\t%d,%d,%d,%d,%d,%d' % ('cggccg',i.start(),i.start()+1,i.start()+2,\n",
    "                                     i.start()+3,i.start()+4, i.end()))\n",
    "\n",
    "# “gccggc”\n",
    "for i in re.finditer(\"gccggc\", str(Regex_input.seq)):\n",
    "    output.write('%s\\t%d,%d,%d,%d,%d,%d\\n' % ('gccggc',i.start(),i.start()+1,i.start()+2,\n",
    "                                     i.start()+3,i.start()+4, i.end()))\n",
    "    print('%s\\t%d,%d,%d,%d,%d,%d' % ('gccggc',i.start(),i.start()+1,i.start()+2,\n",
    "                                     i.start()+3,i.start()+4, i.end()))\n",
    "\n",
    "# “gaattc”\n",
    "for i in re.finditer(\"gaattc\", str(Regex_input.seq)):\n",
    "    output.write('%s\\t%d,%d,%d,%d,%d,%d\\n' % ('gaattc',i.start(),i.start()+1,i.start()+2,\n",
    "                                     i.start()+3,i.start()+4, i.end()))\n",
    "    print('%s\\t%d,%d,%d,%d,%d,%d' % ('gaattc',i.start(),i.start()+1,i.start()+2,\n",
    "                                     i.start()+3,i.start()+4, i.end()))\n",
    "\n",
    "output.close()"
   ]
  }
 ],
 "metadata": {
  "kernelspec": {
   "display_name": "Python 3",
   "language": "python",
   "name": "python3"
  },
  "language_info": {
   "codemirror_mode": {
    "name": "ipython",
    "version": 3
   },
   "file_extension": ".py",
   "mimetype": "text/x-python",
   "name": "python",
   "nbconvert_exporter": "python",
   "pygments_lexer": "ipython3",
   "version": "3.7.1"
  }
 },
 "nbformat": 4,
 "nbformat_minor": 2
}
