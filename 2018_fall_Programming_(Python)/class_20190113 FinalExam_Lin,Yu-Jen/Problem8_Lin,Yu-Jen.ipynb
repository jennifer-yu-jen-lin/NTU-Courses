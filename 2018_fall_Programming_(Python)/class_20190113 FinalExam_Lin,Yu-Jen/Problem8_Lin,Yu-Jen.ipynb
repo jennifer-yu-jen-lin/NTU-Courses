{
 "cells": [
  {
   "cell_type": "markdown",
   "metadata": {},
   "source": [
    "##### Lin, Yu-Jen\n",
    "##### NTU student ID: b04b01036\n",
    "##### email: b04b01036@ntu.edu.tw"
   ]
  },
  {
   "cell_type": "markdown",
   "metadata": {},
   "source": [
    "# 8. Biopython"
   ]
  },
  {
   "cell_type": "markdown",
   "metadata": {},
   "source": [
    "### Please read the fast sequence from the file Input.fasta using Biopython."
   ]
  },
  {
   "cell_type": "code",
   "execution_count": 1,
   "metadata": {},
   "outputs": [],
   "source": [
    "from Bio import SeqIO\n",
    "Input = SeqIO.read(\"Input.fasta\", \"fasta\")"
   ]
  },
  {
   "cell_type": "code",
   "execution_count": 2,
   "metadata": {},
   "outputs": [
    {
     "name": "stdout",
     "output_type": "stream",
     "text": [
      "ID: PCAU.43c3d.1.T00500060\n",
      "Name: PCAU.43c3d.1.T00500060\n",
      "Description: PCAU.43c3d.1.T00500060\n",
      "Number of features: 0\n",
      "Seq('ATGGCTGATTAATTGACATTAGGATACTGGGGAATCAGAGGTCTAGGGTAGCCT...TGA', SingleLetterAlphabet())\n"
     ]
    }
   ],
   "source": [
    "print(Input)"
   ]
  },
  {
   "cell_type": "markdown",
   "metadata": {},
   "source": [
    "### (a) Please compute their GC content using the appropriate utility module of Biopython and output your results in tab-delimited format with the sequence-id and GC content in a .txt file with name Problem8_yourname.txt."
   ]
  },
  {
   "cell_type": "code",
   "execution_count": 3,
   "metadata": {},
   "outputs": [
    {
     "name": "stdout",
     "output_type": "stream",
     "text": [
      "PCAU.43c3d.1.T00500060\t39.33933933933934\n"
     ]
    }
   ],
   "source": [
    "from Bio.Seq import Seq\n",
    "from Bio.Alphabet import IUPAC\n",
    "from Bio.SeqUtils import GC\n",
    "Input_DNA_GC = GC(Input.seq)\n",
    "output = open(\"Problem8_Lin,Yu-Jen.txt\", \"w+\")\n",
    "output.write(Input.id + '\\t' + str(Input_DNA_GC) + '\\n\\n')\n",
    "output.close()\n",
    "print(Input.id + '\\t' + str(Input_DNA_GC))"
   ]
  },
  {
   "cell_type": "markdown",
   "metadata": {},
   "source": [
    "### (b) Please transcribe and translate this using Biopython, by using (a) Standard codon table  (id: 1) and (b) Mitochondrial codon table (id: 2). Please print out the transcribed and translated sequence as appended to the same .txt file (output of (a)). "
   ]
  },
  {
   "cell_type": "code",
   "execution_count": 4,
   "metadata": {},
   "outputs": [
    {
     "name": "stdout",
     "output_type": "stream",
     "text": [
      "AUGGCUGAUUAAUUGACAUUAGGAUACUGGGGAAUCAGAGGUCUAGGGUAGCCUUUGCGAUAUUAUCUUGAAUACCUUGGUUUACCUUAUUAGGAUAAAAGAUACAUGUCACCAGAAGAAUGGUUUGGGGAAGUUGCCUAACCUCCUCUAAGCAAUCAAGUUUUGGUUAACUUGCCAUACAUAAAGGAUGGAGAUAGGUGGAUUUUCGAAAGCCAGGCUCUCUACGUGUACUUAGCUCAUAAAGCCAACAGGACUGACCUCUUAGGGUCGACACCUGAAGAAUAGGUGACUGUGGCUUAGGCAAGAGGGGUUCUGUAAGAUGUUUUCAAAGUCUUCUACUCAUUGCUUGUUCUUCCAGAAGAAUAAUAUUAGGCUUAAAAAGCAGACUACUUCAAAAAGGAAGUGAUGUGGCUUCUAGAAAAGCUAAAUAAGUUCCUUGAUGGAAAGAAGUGGGUGGCAGGUGGCAAUCUCACAUACAUGGACUUCACAAUUUAUGAAUUUGAGGAAACCUUGCAAGCUUAUGAUCCAGAAACUUUCGAUCAAUUACCAUCCCUCAAGAAACAUCAAGAAGAGUUUGCAAACCUUCCAAAAAUCAAGGAAUAUAUUGUUUCAGAUAAAUUUUUGGCAAGACCCUUUUUACCUCCUGACAGAUGUAGAUGGUAUUGA\n",
      "\n",
      ">Standard codon table (id: 1)\n",
      "MAD*LTLGYWGIRGLG*PLRYYLEYLGLPY*DKRYMSPEEWFGEVA*PPLSNQVLVNLPYIKDGDRWIFESQALYVYLAHKANRTDLLGSTPEE*VTVA*ARGVL*DVFKVFYSLLVLPEE*Y*A*KADYFKKEVMWLLEKLNKFLDGKKWVAGGNLTYMDFTIYEFEETLQAYDPETFDQLPSLKKHQEEFANLPKIKEYIVSDKFLARPFLPPDRCRWY*\n",
      ">Mitochondrial codon table (id: 2)\n",
      "MAD*LTLGYWGI*GLG*PLRYYLEYLGLPY*DK*YMSPEEWFGEVA*PPLSNQVLVNLPYMKDGD*WIFESQALYVYLAHKAN*TDLLGSTPEE*VTVA*A*GVL*DVFKVFYSLLVLPEE*Y*A*KADYFKKEVMWLLEKLNKFLDGKKWVAGGNLTYMDFTIYEFEETLQAYDPETFDQLPSLKKHQEEFANLPKIKEYIVSDKFLA*PFLPPD*C*WYW\n"
     ]
    }
   ],
   "source": [
    "output = open(\"Problem8_Lin,Yu-Jen.txt\", \"a\")\n",
    "\n",
    "# transcribe\n",
    "Input_mRNA = Input.seq.transcribe()\n",
    "output.write(str(Input_mRNA) + '\\n\\n')\n",
    "print(str(Input_mRNA) + '\\n')\n",
    "\n",
    "# translate\n",
    "## (a) Standard codon table (id: 1)\n",
    "Input_Protein_std = Input.seq.translate(table=1)\n",
    "output.write('>Standard codon table (id: 1)\\n' + str(Input_Protein_std) + '\\n')\n",
    "print('>Standard codon table (id: 1)\\n' + str(Input_Protein_std))\n",
    "\n",
    "## (b) Mitochondrial codon table (id: 2)\n",
    "Input_Protein_mt = Input.seq.translate(table=2)\n",
    "output.write('>Mitochondrial codon table (id: 2)\\n' + str(Input_Protein_mt) + '\\n\\n')\n",
    "print('>Mitochondrial codon table (id: 2)\\n' + str(Input_Protein_mt))\n",
    "\n",
    "output.close()"
   ]
  },
  {
   "attachments": {},
   "cell_type": "markdown",
   "metadata": {},
   "source": [
    "### (c) Also please print all the stop codons and their positions on the sequence from the two-codon tables (id: 1 and id: 2). The output should be appended to the same .txt file (output of (b)) as a table of the form: \n",
    "##### Codon-table-name (id)\\tCodon\\tPosition-1, Position-2, …,Position-n\n",
    "##### Note: \\t denotes tab-delimited format."
   ]
  },
  {
   "cell_type": "code",
   "execution_count": 5,
   "metadata": {},
   "outputs": [
    {
     "name": "stdout",
     "output_type": "stream",
     "text": [
      "Standard codon table (id:1)\n",
      "TAA\t9,10,11\n",
      "TAG\t48,49,50\n",
      "TAG\t90,91,92\n",
      "TAA\t138,139,140\n",
      "TAG\t282,283,284\n",
      "TAG\t297,298,299\n",
      "TAA\t315,316,317\n",
      "TAA\t363,364,365\n",
      "TAG\t369,370,371\n",
      "TAA\t375,376,377\n",
      "TGA\t663,664,665\n",
      "Mitochondrial codon table (id: 2)\n",
      "TAA\t9,10,11\n",
      "AGA\t36,37,38\n",
      "TAG\t48,49,50\n",
      "TAG\t90,91,92\n",
      "AGA\t99,100,101\n",
      "TAA\t138,139,140\n",
      "AGG\t195,196,197\n",
      "AGG\t249,250,251\n",
      "TAG\t282,283,284\n",
      "TAG\t297,298,299\n",
      "AGA\t303,304,305\n",
      "TAA\t315,316,317\n",
      "TAA\t363,364,365\n",
      "TAG\t369,370,371\n",
      "TAA\t375,376,377\n",
      "AGA\t627,628,629\n",
      "AGA\t648,649,650\n",
      "AGA\t654,655,656\n"
     ]
    }
   ],
   "source": [
    "output = open(\"Problem8_Lin,Yu-Jen.txt\", \"a\")\n",
    "\n",
    "# (a) Standard codon table (id: 1)\n",
    "output.write('Standard codon table (id:1)\\n')\n",
    "print('Standard codon table (id:1)')\n",
    "for i in range(0,len(Input_Protein_std)):\n",
    "    if Input_Protein_std[i] == '*':\n",
    "        output.write('%s\\t%s,%s,%s\\n' % (str(Input.seq[3*i:3*i+3]),str(3*i),str(3*i+1),str(3*i+2)) )\n",
    "        print('%s\\t%s,%s,%s' % (str(Input.seq[3*i:3*i+3]),str(3*i),str(3*i+1),str(3*i+2)) )\n",
    "\n",
    "# (b) Mitochondrial codon table (id: 2)\n",
    "output.write('Mitochondrial codon table (id: 2)\\n')\n",
    "print('Mitochondrial codon table (id: 2)')\n",
    "for i in range(0,len(Input_Protein_mt)):\n",
    "    if Input_Protein_mt[i] == '*':\n",
    "        output.write('%s\\t%s,%s,%s\\n' % (str(Input.seq[3*i:3*i+3]),str(3*i),str(3*i+1),str(3*i+2)) )\n",
    "        print('%s\\t%s,%s,%s' % (str(Input.seq[3*i:3*i+3]),str(3*i),str(3*i+1),str(3*i+2)) )\n",
    "\n",
    "output.close()"
   ]
  }
 ],
 "metadata": {
  "kernelspec": {
   "display_name": "Python 3",
   "language": "python",
   "name": "python3"
  },
  "language_info": {
   "codemirror_mode": {
    "name": "ipython",
    "version": 3
   },
   "file_extension": ".py",
   "mimetype": "text/x-python",
   "name": "python",
   "nbconvert_exporter": "python",
   "pygments_lexer": "ipython3",
   "version": "3.7.1"
  }
 },
 "nbformat": 4,
 "nbformat_minor": 2
}
